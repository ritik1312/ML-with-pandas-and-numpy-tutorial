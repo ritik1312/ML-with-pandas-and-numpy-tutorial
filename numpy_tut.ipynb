{
 "cells": [
  {
   "cell_type": "code",
   "execution_count": 1,
   "id": "7f88f568",
   "metadata": {},
   "outputs": [],
   "source": [
    "import numpy as np"
   ]
  },
  {
   "cell_type": "code",
   "execution_count": 2,
   "id": "0db46887",
   "metadata": {},
   "outputs": [
    {
     "name": "stdout",
     "output_type": "stream",
     "text": [
      "[0, 1, 2, 3, 4, 5, 6, 7, 8, 9]\n",
      "[0 1 2 3 4 5 6 7 8 9]\n"
     ]
    }
   ],
   "source": [
    "print(list(range(10)))\n",
    "print(np.arange(10))"
   ]
  },
  {
   "cell_type": "code",
   "execution_count": 3,
   "id": "2b574fb9",
   "metadata": {},
   "outputs": [
    {
     "name": "stdout",
     "output_type": "stream",
     "text": [
      "[1, 2, 3, 1, 2, 3, 1, 2, 3]\n",
      "[3 6 9]\n",
      "\n"
     ]
    }
   ],
   "source": [
    "l = [1,2,3]\n",
    "print(l*3)\n",
    "np_l = np.array(l)\n",
    "print(np_l*3)\n",
    "# element wise multiplication\n",
    "print()"
   ]
  },
  {
   "cell_type": "markdown",
   "id": "3789f6e2",
   "metadata": {},
   "source": [
    "## Basics related to dimensions and size"
   ]
  },
  {
   "cell_type": "code",
   "execution_count": null,
   "id": "d0139d15",
   "metadata": {},
   "outputs": [],
   "source": [
    "a = np.array([[1,2,3],[4,5,6]])\n",
    "\n",
    "# tells the no. of dimensions\n",
    "print(a.ndim)\n",
    "\n",
    "# get shape\n",
    "print(a.shape) # returns a tuple\n",
    "\n",
    "# to know the data type\n",
    "print(a.dtype)"
   ]
  },
  {
   "cell_type": "code",
   "execution_count": 11,
   "id": "94a11eda",
   "metadata": {},
   "outputs": [
    {
     "name": "stdout",
     "output_type": "stream",
     "text": [
      "int16\n"
     ]
    }
   ],
   "source": [
    "# we can specify datatype while creating array\n",
    "a = np.array([[1,2,3],[4,5,6]], dtype='int16')\n",
    "print(a.dtype)"
   ]
  },
  {
   "cell_type": "code",
   "execution_count": 14,
   "id": "4f54fdb4",
   "metadata": {},
   "outputs": [
    {
     "data": {
      "text/plain": [
       "6"
      ]
     },
     "execution_count": 14,
     "metadata": {},
     "output_type": "execute_result"
    }
   ],
   "source": [
    "# to get total no. of elements\n",
    "a.size"
   ]
  },
  {
   "cell_type": "markdown",
   "id": "fb66c5f8",
   "metadata": {},
   "source": [
    "## Accessing and changing elements"
   ]
  },
  {
   "cell_type": "code",
   "execution_count": 21,
   "id": "645dbe1f",
   "metadata": {},
   "outputs": [
    {
     "name": "stdout",
     "output_type": "stream",
     "text": [
      "5 6\n",
      "[4 5 6] [1 2 3]\n",
      "[2 5] [3 6]\n"
     ]
    }
   ],
   "source": [
    "a = np.array([[1,2,3],[4,5,6]])\n",
    "\n",
    "# accessing an elememnt\n",
    "print(a[1][1],a[1][-1])\n",
    "\n",
    "# accessing a row\n",
    "print(a[1,:],a[-2])\n",
    "\n",
    "# accessing a column\n",
    "print(a[:,1],a[:,-1])"
   ]
  },
  {
   "cell_type": "code",
   "execution_count": 26,
   "id": "d99d91a6",
   "metadata": {},
   "outputs": [
    {
     "name": "stdout",
     "output_type": "stream",
     "text": [
      "[[1 2 3]\n",
      " [8 8 8]]\n",
      "[[1 2 3]\n",
      " [8 8 8]]\n",
      "[[1 5 3]\n",
      " [8 5 8]]\n"
     ]
    }
   ],
   "source": [
    "# Changing a single element\n",
    "a[1][2] = 8\n",
    "print(a)\n",
    "\n",
    "#changing whole row value\n",
    "a[1,:] = 8\n",
    "print(a)\n",
    "\n",
    "# chaning a column value\n",
    "a[:,1] = 5\n",
    "print(a)"
   ]
  },
  {
   "cell_type": "markdown",
   "id": "7a5b4de5",
   "metadata": {},
   "source": [
    "## Initializaton of np arrays"
   ]
  },
  {
   "cell_type": "code",
   "execution_count": 56,
   "id": "a05e92f0",
   "metadata": {},
   "outputs": [
    {
     "name": "stdout",
     "output_type": "stream",
     "text": [
      "[0. 0. 0. 0. 0.]\n",
      "[[0 0 0]\n",
      " [0 0 0]]\n",
      "[1. 1. 1. 1. 1. 1. 1. 1. 1. 1.]\n",
      "[[4 4 4]\n",
      " [4 4 4]\n",
      " [4 4 4]]\n"
     ]
    }
   ],
   "source": [
    "# initialize with 0s\n",
    "b = np.zeros(5)\n",
    "print(b)\n",
    "b = np.zeros((2,3), dtype= 'int32')\n",
    "print(b)\n",
    "\n",
    "# initialise with 1s\n",
    "b = np.ones(a.shape)\n",
    "print(b)\n",
    "\n",
    "#initialise with a constant\n",
    "b = np.full((3,3),4)\n",
    "print(b)"
   ]
  },
  {
   "cell_type": "code",
   "execution_count": 42,
   "id": "1ceec86d",
   "metadata": {},
   "outputs": [
    {
     "name": "stdout",
     "output_type": "stream",
     "text": [
      "[[0.35787022 0.1284036 ]\n",
      " [0.08124125 0.2084589 ]\n",
      " [0.76598247 0.06473207]\n",
      " [0.83146664 0.66443363]]\n",
      "[[7 7]\n",
      " [6 2]\n",
      " [0 7]\n",
      " [4 0]]\n",
      "[[6 8]\n",
      " [5 9]\n",
      " [6 7]\n",
      " [7 8]]\n"
     ]
    }
   ],
   "source": [
    "# Random nos. initialisation\n",
    "\n",
    "# 0 to 1 float nos\n",
    "b = np.random.rand(4,2)\n",
    "print(b)\n",
    "\n",
    "#integers from 0 to 9\n",
    "b = np.random.randint(10, size=(4,2))\n",
    "print(b)\n",
    "\n",
    "#integers from 5 to 9\n",
    "b = np.random.randint(5,10, size=(4,2))\n",
    "print(b)"
   ]
  },
  {
   "cell_type": "code",
   "execution_count": 48,
   "id": "16047bdd",
   "metadata": {},
   "outputs": [
    {
     "name": "stdout",
     "output_type": "stream",
     "text": [
      "[[1. 0. 0.]\n",
      " [0. 1. 0.]\n",
      " [0. 0. 1.]]\n",
      "[0 1 2 3 4 5 6 7 8 9]\n"
     ]
    }
   ],
   "source": [
    "b = np.identity(3)\n",
    "print(b)\n",
    "\n",
    "b = np.arange(10)\n",
    "print(b)"
   ]
  },
  {
   "cell_type": "code",
   "execution_count": 45,
   "id": "54d5830f",
   "metadata": {},
   "outputs": [
    {
     "name": "stdout",
     "output_type": "stream",
     "text": [
      "[[1. 1. 1. 1. 1.]\n",
      " [1. 0. 0. 0. 1.]\n",
      " [1. 0. 9. 0. 1.]\n",
      " [1. 0. 0. 0. 1.]\n",
      " [1. 1. 1. 1. 1.]]\n"
     ]
    }
   ],
   "source": [
    "# [[1,1,1,1,1]\n",
    "# [1,0,0,0,1]\n",
    "# [1,0,9,0,1]\n",
    "# [1,0,0,0,1]\n",
    "# [1,1,1,1,1]] Construct this matrix\n",
    "\n",
    "ans = np.ones((5,5))\n",
    "ans[1:4,1:4] = np.zeros((3,3))\n",
    "ans[2][2] = 9\n",
    "print(ans)"
   ]
  },
  {
   "cell_type": "markdown",
   "id": "dd6dc72f",
   "metadata": {},
   "source": [
    "## Mathematics wiht np arrays"
   ]
  },
  {
   "cell_type": "code",
   "execution_count": 49,
   "id": "da6ae6c4",
   "metadata": {},
   "outputs": [
    {
     "data": {
      "text/plain": [
       "array([ 2,  3,  4,  5,  6,  7,  8,  9, 10, 11])"
      ]
     },
     "execution_count": 49,
     "metadata": {},
     "output_type": "execute_result"
    }
   ],
   "source": [
    "a = np.arange(10)\n",
    "a+2"
   ]
  },
  {
   "cell_type": "code",
   "execution_count": 50,
   "id": "f9d00ce6",
   "metadata": {},
   "outputs": [
    {
     "data": {
      "text/plain": [
       "array([0. , 0.5, 1. , 1.5, 2. , 2.5, 3. , 3.5, 4. , 4.5])"
      ]
     },
     "execution_count": 50,
     "metadata": {},
     "output_type": "execute_result"
    }
   ],
   "source": [
    "a/2"
   ]
  },
  {
   "cell_type": "code",
   "execution_count": 51,
   "id": "7faa4ce1",
   "metadata": {},
   "outputs": [
    {
     "data": {
      "text/plain": [
       "array([0, 1, 0, 1, 0, 1, 0, 1, 0, 1], dtype=int32)"
      ]
     },
     "execution_count": 51,
     "metadata": {},
     "output_type": "execute_result"
    }
   ],
   "source": [
    "a%2"
   ]
  },
  {
   "cell_type": "code",
   "execution_count": 52,
   "id": "f95ca8e6",
   "metadata": {},
   "outputs": [
    {
     "data": {
      "text/plain": [
       "array([ 0,  1,  4,  9, 16, 25, 36, 49, 64, 81], dtype=int32)"
      ]
     },
     "execution_count": 52,
     "metadata": {},
     "output_type": "execute_result"
    }
   ],
   "source": [
    "a**2"
   ]
  },
  {
   "cell_type": "code",
   "execution_count": 53,
   "id": "7c6f6157",
   "metadata": {},
   "outputs": [
    {
     "data": {
      "text/plain": [
       "array([ 0.        ,  0.84147098,  0.90929743,  0.14112001, -0.7568025 ,\n",
       "       -0.95892427, -0.2794155 ,  0.6569866 ,  0.98935825,  0.41211849])"
      ]
     },
     "execution_count": 53,
     "metadata": {},
     "output_type": "execute_result"
    }
   ],
   "source": [
    "np.sin(a)"
   ]
  },
  {
   "cell_type": "markdown",
   "id": "ecee27a6",
   "metadata": {},
   "source": [
    "## Algebra"
   ]
  },
  {
   "cell_type": "code",
   "execution_count": 63,
   "id": "f43eebd5",
   "metadata": {},
   "outputs": [
    {
     "name": "stdout",
     "output_type": "stream",
     "text": [
      "[[2 2]\n",
      " [2 2]\n",
      " [2 2]]\n",
      "[[2 2 2]\n",
      " [2 2 2]]\n"
     ]
    }
   ],
   "source": [
    "# Trnspose of matrix\n",
    "b = np.full((3,2),2)\n",
    "print(b)\n",
    "print(np.transpose(b))"
   ]
  },
  {
   "cell_type": "code",
   "execution_count": 62,
   "id": "ab01e612",
   "metadata": {},
   "outputs": [
    {
     "name": "stdout",
     "output_type": "stream",
     "text": [
      "[[1. 1. 1.]\n",
      " [1. 1. 1.]\n",
      " [1. 1. 1.]]\n",
      "[[2 2]\n",
      " [2 2]\n",
      " [2 2]]\n",
      "[[6. 6.]\n",
      " [6. 6.]\n",
      " [6. 6.]]\n"
     ]
    }
   ],
   "source": [
    "# Matrix multiplication\n",
    "a = np.ones((3,3))\n",
    "print(a)\n",
    "print(b)\n",
    "print(np.matmul(a,b))"
   ]
  },
  {
   "cell_type": "code",
   "execution_count": 69,
   "id": "d2ea4dc9",
   "metadata": {},
   "outputs": [
    {
     "name": "stdout",
     "output_type": "stream",
     "text": [
      "[[2. 0. 0.]\n",
      " [0. 2. 0.]\n",
      " [0. 0. 2.]] 7.999999999999998\n"
     ]
    }
   ],
   "source": [
    "# Determinant of a matrix\n",
    "a = np.identity(3)*2\n",
    "print(a,np.linalg.det(a))"
   ]
  },
  {
   "cell_type": "code",
   "execution_count": null,
   "id": "e650f56f",
   "metadata": {},
   "outputs": [],
   "source": [
    "# https://docs.scipy.org/doc/numpy/reference/routines.linalg.html\n",
    "# More matrix operations\n",
    "# inverse, singular vector decomposition, Eigenvalues, Trace etc."
   ]
  },
  {
   "cell_type": "markdown",
   "id": "d2f1f78f",
   "metadata": {},
   "source": [
    "## Statistics"
   ]
  },
  {
   "cell_type": "code",
   "execution_count": 3,
   "id": "550ecd49",
   "metadata": {},
   "outputs": [
    {
     "name": "stdout",
     "output_type": "stream",
     "text": [
      "[array([1, 2, 3, 4]), array([5, 6, 7, 8])]\n"
     ]
    }
   ],
   "source": [
    "s = [np.arange(1,5),np.arange(5,9)]\n",
    "print(s)"
   ]
  },
  {
   "cell_type": "code",
   "execution_count": 4,
   "id": "b911664e",
   "metadata": {},
   "outputs": [
    {
     "name": "stdout",
     "output_type": "stream",
     "text": [
      "1\n",
      "[1 2 3 4]\n",
      "[4 8]\n"
     ]
    }
   ],
   "source": [
    "# min and max using axis\n",
    "print(np.min(s))\n",
    "print(np.min(s,axis=0))\n",
    "print(np.max(s,axis=1))"
   ]
  },
  {
   "cell_type": "code",
   "execution_count": 10,
   "id": "f6caa78f",
   "metadata": {},
   "outputs": [
    {
     "name": "stdout",
     "output_type": "stream",
     "text": [
      "[ 6  8 10 12]\n",
      "[2.5 6.5]\n"
     ]
    }
   ],
   "source": [
    "# sum and mean\n",
    "print(np.sum(s,axis=0))\n",
    "print(np.mean(s,axis=1))"
   ]
  },
  {
   "cell_type": "markdown",
   "id": "c6a53571",
   "metadata": {},
   "source": [
    "## Reorganizing arrays"
   ]
  },
  {
   "cell_type": "code",
   "execution_count": 14,
   "id": "4b81af36",
   "metadata": {},
   "outputs": [
    {
     "name": "stdout",
     "output_type": "stream",
     "text": [
      "[[1 2 3 4]\n",
      " [5 6 7 8]]\n",
      "[[1 2]\n",
      " [3 4]\n",
      " [5 6]\n",
      " [7 8]]\n"
     ]
    }
   ],
   "source": [
    "# reshaping\n",
    "before = np.array([[1,2,3,4],[5,6,7,8]])\n",
    "print(before)\n",
    "\n",
    "after = before.reshape((4,2))\n",
    "print(after)"
   ]
  },
  {
   "cell_type": "code",
   "execution_count": 17,
   "id": "9d41685b",
   "metadata": {},
   "outputs": [
    {
     "name": "stdout",
     "output_type": "stream",
     "text": [
      "[[1. 1. 0. 0.]\n",
      " [1. 1. 0. 0.]]\n",
      "[[1. 1.]\n",
      " [1. 1.]\n",
      " [0. 0.]\n",
      " [0. 0.]]\n"
     ]
    }
   ],
   "source": [
    "# combining(stacking) 2 arrays vertically and horizontally\n",
    "a1 = np.ones((2,2))\n",
    "a2 = np.zeros((2,2))\n",
    "print(np.hstack((a1,a2)))\n",
    "print(np.vstack((a1,a2)))"
   ]
  },
  {
   "cell_type": "markdown",
   "id": "4368aaf5",
   "metadata": {},
   "source": [
    "## Loading data from file"
   ]
  },
  {
   "cell_type": "code",
   "execution_count": 2,
   "id": "71cfa24a",
   "metadata": {},
   "outputs": [
    {
     "name": "stdout",
     "output_type": "stream",
     "text": [
      "[[  1  13  21  11 196  75   4   3  34   6   7   8   0   1   2   3   4   5]\n",
      " [  3  42  12  33 766  75   4  55   6   4   3   4   5   6   7   0  11  12]\n",
      " [  1  22  33  11 999  11   2   1  78   0   1   2   9   8   7   1  76  88]]\n"
     ]
    }
   ],
   "source": [
    "filedata = np.genfromtxt('data.txt',delimiter=',', dtype='int32')\n",
    "print(filedata)"
   ]
  },
  {
   "cell_type": "code",
   "execution_count": 12,
   "id": "eadc2da0",
   "metadata": {},
   "outputs": [
    {
     "name": "stdout",
     "output_type": "stream",
     "text": [
      "[[False False False False  True  True False False False False False False\n",
      "  False False False False False False]\n",
      " [False False False False  True  True False  True False False False False\n",
      "  False False False False False False]\n",
      " [False False False False  True False False False  True False False False\n",
      "  False False False False  True  True]]\n",
      "\n",
      "[196  75 766  75  55 999  78  76  88]\n",
      "[11 15 18]\n"
     ]
    }
   ],
   "source": [
    "#Boolean masking\n",
    "print(filedata > 50)\n",
    "print()\n",
    "\n",
    "# Using boolean masking as index\n",
    "print(filedata[filedata > 50])\n",
    "\n",
    "#using list of indices\n",
    "a = np.arange(10,20)\n",
    "print(a[[1,5,8]])"
   ]
  },
  {
   "cell_type": "code",
   "execution_count": 13,
   "id": "b2ba9f6a",
   "metadata": {},
   "outputs": [
    {
     "name": "stdout",
     "output_type": "stream",
     "text": [
      "[[ 1  2  3  4  5]\n",
      " [ 6  7  8  9 10]\n",
      " [11 12 13 14 15]\n",
      " [16 17 18 19 20]\n",
      " [21 22 23 24 25]\n",
      " [26 27 28 29 30]]\n"
     ]
    }
   ],
   "source": [
    "# Questions related to indexing on given array\n",
    "a = np.arange(1,31).reshape((6,5))\n",
    "print(a)"
   ]
  },
  {
   "cell_type": "code",
   "execution_count": 14,
   "id": "5e2b0694",
   "metadata": {},
   "outputs": [
    {
     "data": {
      "text/plain": [
       "array([[11, 12],\n",
       "       [16, 17]])"
      ]
     },
     "execution_count": 14,
     "metadata": {},
     "output_type": "execute_result"
    }
   ],
   "source": [
    "a[2:4,0:2]"
   ]
  },
  {
   "cell_type": "code",
   "execution_count": 25,
   "id": "337857ee",
   "metadata": {},
   "outputs": [
    {
     "data": {
      "text/plain": [
       "array([ 2,  8, 14, 20])"
      ]
     },
     "execution_count": 25,
     "metadata": {},
     "output_type": "execute_result"
    }
   ],
   "source": [
    "a[np.arange(4),np.arange(1,5)]"
   ]
  },
  {
   "cell_type": "code",
   "execution_count": 26,
   "id": "08e2240f",
   "metadata": {},
   "outputs": [
    {
     "data": {
      "text/plain": [
       "array([[ 4,  5],\n",
       "       [24, 25],\n",
       "       [29, 30]])"
      ]
     },
     "execution_count": 26,
     "metadata": {},
     "output_type": "execute_result"
    }
   ],
   "source": [
    "a[[0,4,5],3:5]"
   ]
  },
  {
   "cell_type": "code",
   "execution_count": null,
   "id": "56d209b0",
   "metadata": {},
   "outputs": [],
   "source": []
  }
 ],
 "metadata": {
  "kernelspec": {
   "display_name": "Python 3 (ipykernel)",
   "language": "python",
   "name": "python3"
  },
  "language_info": {
   "codemirror_mode": {
    "name": "ipython",
    "version": 3
   },
   "file_extension": ".py",
   "mimetype": "text/x-python",
   "name": "python",
   "nbconvert_exporter": "python",
   "pygments_lexer": "ipython3",
   "version": "3.9.12"
  }
 },
 "nbformat": 4,
 "nbformat_minor": 5
}
