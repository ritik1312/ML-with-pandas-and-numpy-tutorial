{
 "cells": [
  {
   "cell_type": "code",
   "execution_count": 1,
   "id": "96f94073",
   "metadata": {},
   "outputs": [],
   "source": [
    "import numpy as np\n",
    "import matplotlib.pyplot as plt\n",
    "from sklearn import datasets, linear_model\n",
    "from sklearn.metrics import mean_squared_error"
   ]
  },
  {
   "cell_type": "code",
   "execution_count": 2,
   "id": "f2866c47",
   "metadata": {},
   "outputs": [
    {
     "name": "stdout",
     "output_type": "stream",
     "text": [
      "dict_keys(['data', 'target', 'frame', 'DESCR', 'feature_names', 'data_filename', 'target_filename', 'data_module'])\n"
     ]
    }
   ],
   "source": [
    "diabetes = datasets.load_diabetes()\n",
    "print(diabetes.keys())"
   ]
  },
  {
   "cell_type": "markdown",
   "id": "183e60b2",
   "metadata": {},
   "source": [
    "Op - dict_keys(['data', 'target', 'frame', 'DESCR', 'feature_names', 'data_filename', 'target_filename', 'data_module'])"
   ]
  },
  {
   "cell_type": "code",
   "execution_count": 3,
   "id": "231bd0cf",
   "metadata": {},
   "outputs": [
    {
     "data": {
      "text/plain": [
       "array([[ 0.03807591,  0.05068012,  0.06169621, ..., -0.00259226,\n",
       "         0.01990842, -0.01764613],\n",
       "       [-0.00188202, -0.04464164, -0.05147406, ..., -0.03949338,\n",
       "        -0.06832974, -0.09220405],\n",
       "       [ 0.08529891,  0.05068012,  0.04445121, ..., -0.00259226,\n",
       "         0.00286377, -0.02593034],\n",
       "       ...,\n",
       "       [ 0.04170844,  0.05068012, -0.01590626, ..., -0.01107952,\n",
       "        -0.04687948,  0.01549073],\n",
       "       [-0.04547248, -0.04464164,  0.03906215, ...,  0.02655962,\n",
       "         0.04452837, -0.02593034],\n",
       "       [-0.04547248, -0.04464164, -0.0730303 , ..., -0.03949338,\n",
       "        -0.00421986,  0.00306441]])"
      ]
     },
     "execution_count": 3,
     "metadata": {},
     "output_type": "execute_result"
    }
   ],
   "source": [
    "diabetes.data"
   ]
  },
  {
   "cell_type": "code",
   "execution_count": 4,
   "id": "5805ac6f",
   "metadata": {},
   "outputs": [],
   "source": [
    "# slicing\n",
    "# diabetes_X = diabetes.data[:, np.newaxis, 2]\n",
    "diabetes_X = diabetes.data"
   ]
  },
  {
   "cell_type": "code",
   "execution_count": 5,
   "id": "4fa58d59",
   "metadata": {},
   "outputs": [],
   "source": [
    "diabetes_X_train = diabetes_X[:-30] #except last 30\n",
    "diabetes_X_test = diabetes_X[-20:] #last 20"
   ]
  },
  {
   "cell_type": "code",
   "execution_count": 6,
   "id": "5b375441",
   "metadata": {},
   "outputs": [],
   "source": [
    "diabetes_Y_train = diabetes.target[:-30]\n",
    "diabetes_Y_test = diabetes.target[-20:]"
   ]
  },
  {
   "cell_type": "code",
   "execution_count": 7,
   "id": "4a453107",
   "metadata": {},
   "outputs": [
    {
     "name": "stdout",
     "output_type": "stream",
     "text": [
      "Mean squared error :  2004.3086353199658\n"
     ]
    }
   ],
   "source": [
    "# fitting linear model\n",
    "\n",
    "# making a linear reg model object\n",
    "model = linear_model.LinearRegression()\n",
    "\n",
    "# now we fit this model on our train data which will make a predictor line\n",
    "model.fit(diabetes_X_train, diabetes_Y_train)\n",
    "\n",
    "# Now our model will make predictions on testing X data\n",
    "diabetes_Y_predicted = model.predict(diabetes_X_test)\n",
    "\n",
    "# now we need to evaluate our predictions. We use here 'mean squared error'\n",
    "print('Mean squared error : ', mean_squared_error(diabetes_Y_test, diabetes_Y_predicted))"
   ]
  },
  {
   "cell_type": "markdown",
   "id": "792297a2",
   "metadata": {},
   "source": [
    "Mean squared error :  2561.320427728386 for 1 feature"
   ]
  },
  {
   "cell_type": "code",
   "execution_count": 9,
   "id": "5afcf084",
   "metadata": {},
   "outputs": [
    {
     "name": "stdout",
     "output_type": "stream",
     "text": [
      "Weights:  [  -1.16924976 -237.18461486  518.30606657  309.04865826 -763.14121622\n",
      "  458.90999325   80.62441437  174.32183366  721.49712065   79.19307944]\n",
      "Bias:  153.05827988224112\n",
      "0.585128905828007\n"
     ]
    }
   ],
   "source": [
    "print('Weights: ', model.coef_)\n",
    "print('Bias: ',model.intercept_)\n",
    "print(model.score(diabetes_X_test, diabetes_Y_test))"
   ]
  },
  {
   "cell_type": "code",
   "execution_count": 61,
   "id": "798af5fc",
   "metadata": {},
   "outputs": [],
   "source": [
    "# # plotting if only 1 feature is there\n",
    "# plt.scatter(diabetes_X_test,diabetes_Y_test)\n",
    "# plt.plot(diabetes_X_test, diabetes_Y_predicted)\n",
    "# plt.title('Predicted line')\n",
    "# plt.show()"
   ]
  }
 ],
 "metadata": {
  "kernelspec": {
   "display_name": "Python 3 (ipykernel)",
   "language": "python",
   "name": "python3"
  },
  "language_info": {
   "codemirror_mode": {
    "name": "ipython",
    "version": 3
   },
   "file_extension": ".py",
   "mimetype": "text/x-python",
   "name": "python",
   "nbconvert_exporter": "python",
   "pygments_lexer": "ipython3",
   "version": "3.9.12"
  }
 },
 "nbformat": 4,
 "nbformat_minor": 5
}
